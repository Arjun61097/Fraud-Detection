{
 "cells": [
  {
   "cell_type": "code",
   "execution_count": 1,
   "metadata": {
    "colab": {
     "base_uri": "https://localhost:8080/"
    },
    "id": "UYlssSAijbMq",
    "outputId": "dabc22cf-9f9f-41d9-d044-c0904a932829"
   },
   "outputs": [
    {
     "name": "stdout",
     "output_type": "stream",
     "text": [
      "Looking in indexes: https://pypi.org/simple, https://us-python.pkg.dev/colab-wheels/public/simple/\n",
      "Requirement already satisfied: pyspark in /usr/local/lib/python3.8/dist-packages (3.3.1)\n",
      "Requirement already satisfied: py4j==0.10.9.5 in /usr/local/lib/python3.8/dist-packages (from pyspark) (0.10.9.5)\n"
     ]
    }
   ],
   "source": [
    "!pip install pyspark"
   ]
  },
  {
   "cell_type": "code",
   "execution_count": 2,
   "metadata": {
    "id": "-eIPiHhNjlnx"
   },
   "outputs": [],
   "source": [
    "from pyspark.sql import SparkSession\n",
    "import pyspark.sql.functions as F\n",
    "import pyspark.sql.types as T\n",
    "\n",
    "spark=SparkSession.builder.getOrCreate()"
   ]
  },
  {
   "cell_type": "code",
   "execution_count": 3,
   "metadata": {
    "colab": {
     "base_uri": "https://localhost:8080/",
     "height": 219
    },
    "id": "VSWXZPf7k65K",
    "outputId": "47785695-d5a2-4097-a6cd-9ca13416dabc"
   },
   "outputs": [
    {
     "data": {
      "text/html": [
       "\n",
       "            <div>\n",
       "                <p><b>SparkSession - in-memory</b></p>\n",
       "                \n",
       "        <div>\n",
       "            <p><b>SparkContext</b></p>\n",
       "\n",
       "            <p><a href=\"http://64318abc71a8:4040\">Spark UI</a></p>\n",
       "\n",
       "            <dl>\n",
       "              <dt>Version</dt>\n",
       "                <dd><code>v3.3.1</code></dd>\n",
       "              <dt>Master</dt>\n",
       "                <dd><code>local[*]</code></dd>\n",
       "              <dt>AppName</dt>\n",
       "                <dd><code>pyspark-shell</code></dd>\n",
       "            </dl>\n",
       "        </div>\n",
       "        \n",
       "            </div>\n",
       "        "
      ],
      "text/plain": [
       "<pyspark.sql.session.SparkSession at 0x7f6b45b3dfa0>"
      ]
     },
     "execution_count": 3,
     "metadata": {},
     "output_type": "execute_result"
    }
   ],
   "source": [
    "spark"
   ]
  },
  {
   "cell_type": "code",
   "execution_count": 4,
   "metadata": {
    "colab": {
     "base_uri": "https://localhost:8080/"
    },
    "id": "XDLHcYs9k7EK",
    "outputId": "d4c66676-09d4-4931-8cd5-66cb913d134d"
   },
   "outputs": [
    {
     "name": "stdout",
     "output_type": "stream",
     "text": [
      "PS_20174392719_1491204439457_log.csv  sample_data\n"
     ]
    }
   ],
   "source": [
    "!ls #check directory"
   ]
  },
  {
   "cell_type": "code",
   "execution_count": 5,
   "metadata": {
    "id": "AqajPFC8k7JI"
   },
   "outputs": [],
   "source": [
    "\n",
    "# File location and type\n",
    "path = '/content/PS_20174392719_1491204439457_log.csv'\n",
    "file_type = \"csv\"\n",
    "\n",
    "# CSV options\n",
    "infer_schema = \"true\"\n",
    "first_row_is_header = \"true\"\n",
    "delimiter = \",\"\n",
    "\n",
    "# Import csv\n",
    "df = spark.read.format(file_type) \\\n",
    "  .option(\"inferSchema\", infer_schema) \\\n",
    "  .option(\"header\", first_row_is_header) \\\n",
    "  .option(\"sep\", delimiter) \\\n",
    "  .load(path)"
   ]
  },
  {
   "cell_type": "code",
   "execution_count": 6,
   "metadata": {
    "colab": {
     "base_uri": "https://localhost:8080/"
    },
    "id": "y7Dc0VZNk7Mx",
    "outputId": "d6f89993-4929-4b2b-a072-e33a63fff0ba"
   },
   "outputs": [
    {
     "name": "stdout",
     "output_type": "stream",
     "text": [
      "+----+--------+--------+-----------+-------------+--------------+-----------+--------------+--------------+-------+--------------+\n",
      "|step|    type|  amount|   nameOrig|oldbalanceOrg|newbalanceOrig|   nameDest|oldbalanceDest|newbalanceDest|isFraud|isFlaggedFraud|\n",
      "+----+--------+--------+-----------+-------------+--------------+-----------+--------------+--------------+-------+--------------+\n",
      "|   1| PAYMENT| 9839.64|C1231006815|     170136.0|     160296.36|M1979787155|           0.0|           0.0|      0|             0|\n",
      "|   1| PAYMENT| 1864.28|C1666544295|      21249.0|      19384.72|M2044282225|           0.0|           0.0|      0|             0|\n",
      "|   1|TRANSFER|   181.0|C1305486145|        181.0|           0.0| C553264065|           0.0|           0.0|      1|             0|\n",
      "|   1|CASH_OUT|   181.0| C840083671|        181.0|           0.0|  C38997010|       21182.0|           0.0|      1|             0|\n",
      "|   1| PAYMENT|11668.14|C2048537720|      41554.0|      29885.86|M1230701703|           0.0|           0.0|      0|             0|\n",
      "|   1| PAYMENT| 7817.71|  C90045638|      53860.0|      46042.29| M573487274|           0.0|           0.0|      0|             0|\n",
      "|   1| PAYMENT| 7107.77| C154988899|     183195.0|     176087.23| M408069119|           0.0|           0.0|      0|             0|\n",
      "|   1| PAYMENT| 7861.64|C1912850431|    176087.23|     168225.59| M633326333|           0.0|           0.0|      0|             0|\n",
      "|   1| PAYMENT| 4024.36|C1265012928|       2671.0|           0.0|M1176932104|           0.0|           0.0|      0|             0|\n",
      "|   1|   DEBIT| 5337.77| C712410124|      41720.0|      36382.23| C195600860|       41898.0|      40348.79|      0|             0|\n",
      "+----+--------+--------+-----------+-------------+--------------+-----------+--------------+--------------+-------+--------------+\n",
      "only showing top 10 rows\n",
      "\n"
     ]
    }
   ],
   "source": [
    "df.show(10) #show 10 rows in table format"
   ]
  },
  {
   "cell_type": "code",
   "execution_count": 7,
   "metadata": {
    "colab": {
     "base_uri": "https://localhost:8080/"
    },
    "id": "1nD6xlpHnmJ5",
    "outputId": "60506d19-e520-4cf5-a609-683e4fa8c705"
   },
   "outputs": [
    {
     "name": "stdout",
     "output_type": "stream",
     "text": [
      "root\n",
      " |-- step: integer (nullable = true)\n",
      " |-- type: string (nullable = true)\n",
      " |-- amount: double (nullable = true)\n",
      " |-- nameOrig: string (nullable = true)\n",
      " |-- oldbalanceOrg: double (nullable = true)\n",
      " |-- newbalanceOrig: double (nullable = true)\n",
      " |-- nameDest: string (nullable = true)\n",
      " |-- oldbalanceDest: double (nullable = true)\n",
      " |-- newbalanceDest: double (nullable = true)\n",
      " |-- isFraud: integer (nullable = true)\n",
      " |-- isFlaggedFraud: integer (nullable = true)\n",
      "\n"
     ]
    }
   ],
   "source": [
    "df.printSchema()"
   ]
  },
  {
   "cell_type": "code",
   "execution_count": 8,
   "metadata": {
    "id": "yjRjifqMnmNc"
   },
   "outputs": [],
   "source": [
    "# Droping columns that are not that are not required for solving the problem.\n",
    "df = df.select(\"type\", \"amount\", \"oldbalanceOrg\", \"newbalanceOrig\", \"isFraud\")"
   ]
  },
  {
   "cell_type": "code",
   "execution_count": 9,
   "metadata": {
    "colab": {
     "base_uri": "https://localhost:8080/"
    },
    "id": "HtkkBlZ2nmP7",
    "outputId": "ed740bc8-eba5-4314-fdb7-03aa37a1992d"
   },
   "outputs": [
    {
     "name": "stdout",
     "output_type": "stream",
     "text": [
      "+--------+--------+-------------+--------------+-------+\n",
      "|    type|  amount|oldbalanceOrg|newbalanceOrig|isFraud|\n",
      "+--------+--------+-------------+--------------+-------+\n",
      "| PAYMENT| 9839.64|     170136.0|     160296.36|      0|\n",
      "| PAYMENT| 1864.28|      21249.0|      19384.72|      0|\n",
      "|TRANSFER|   181.0|        181.0|           0.0|      1|\n",
      "|CASH_OUT|   181.0|        181.0|           0.0|      1|\n",
      "| PAYMENT|11668.14|      41554.0|      29885.86|      0|\n",
      "+--------+--------+-------------+--------------+-------+\n",
      "only showing top 5 rows\n",
      "\n"
     ]
    }
   ],
   "source": [
    "df.show(5)"
   ]
  },
  {
   "cell_type": "markdown",
   "metadata": {
    "id": "x3Fdp6wmK5_E"
   },
   "source": [
    "**Data Exploration**"
   ]
  },
  {
   "cell_type": "code",
   "execution_count": 10,
   "metadata": {
    "colab": {
     "base_uri": "https://localhost:8080/"
    },
    "id": "QhrzOYe9NRq2",
    "outputId": "21a4f1d0-21ff-48de-b0ff-748ccabc6570"
   },
   "outputs": [
    {
     "data": {
      "text/plain": [
       "(6362620, 5)"
      ]
     },
     "execution_count": 10,
     "metadata": {},
     "output_type": "execute_result"
    }
   ],
   "source": [
    "(df.count() , len(df.columns))"
   ]
  },
  {
   "cell_type": "code",
   "execution_count": 11,
   "metadata": {
    "colab": {
     "base_uri": "https://localhost:8080/"
    },
    "id": "GSGy39a0OSyZ",
    "outputId": "ef325bd3-fdad-4bfe-89e0-ffd5c6a51d98"
   },
   "outputs": [
    {
     "name": "stdout",
     "output_type": "stream",
     "text": [
      "+-------+-----------------+-----------------+------------------+--------------------+\n",
      "|summary|           amount|    oldbalanceOrg|    newbalanceOrig|             isFraud|\n",
      "+-------+-----------------+-----------------+------------------+--------------------+\n",
      "|  count|          6362620|          6362620|           6362620|             6362620|\n",
      "|   mean|179861.9035491287|833883.1040744764| 855113.6685785812|0.001290820448180152|\n",
      "| stddev|603858.2314629209|2888242.673037527|2924048.5029542595|0.035904796801604424|\n",
      "|    min|              0.0|              0.0|               0.0|                   0|\n",
      "|    max|    9.244551664E7|    5.958504037E7|     4.958504037E7|                   1|\n",
      "+-------+-----------------+-----------------+------------------+--------------------+\n",
      "\n"
     ]
    }
   ],
   "source": [
    "#summary statistics\n",
    "df.select('amount','oldbalanceOrg','newbalanceOrig','isFraud').describe().show()"
   ]
  },
  {
   "cell_type": "code",
   "execution_count": 12,
   "metadata": {
    "colab": {
     "base_uri": "https://localhost:8080/",
     "height": 81
    },
    "id": "vlZsGe_UObqr",
    "outputId": "a0dd32a0-1394-4b71-b5f6-5ecb9de2ef89"
   },
   "outputs": [
    {
     "data": {
      "text/html": [
       "\n",
       "  <div id=\"df-f44fd603-70f1-43f2-90da-c7e141e4f2b5\">\n",
       "    <div class=\"colab-df-container\">\n",
       "      <div>\n",
       "<style scoped>\n",
       "    .dataframe tbody tr th:only-of-type {\n",
       "        vertical-align: middle;\n",
       "    }\n",
       "\n",
       "    .dataframe tbody tr th {\n",
       "        vertical-align: top;\n",
       "    }\n",
       "\n",
       "    .dataframe thead th {\n",
       "        text-align: right;\n",
       "    }\n",
       "</style>\n",
       "<table border=\"1\" class=\"dataframe\">\n",
       "  <thead>\n",
       "    <tr style=\"text-align: right;\">\n",
       "      <th></th>\n",
       "      <th>type</th>\n",
       "      <th>amount</th>\n",
       "      <th>oldbalanceOrg</th>\n",
       "      <th>newbalanceOrig</th>\n",
       "      <th>isFraud</th>\n",
       "    </tr>\n",
       "  </thead>\n",
       "  <tbody>\n",
       "    <tr>\n",
       "      <th>0</th>\n",
       "      <td>0</td>\n",
       "      <td>0</td>\n",
       "      <td>0</td>\n",
       "      <td>0</td>\n",
       "      <td>0</td>\n",
       "    </tr>\n",
       "  </tbody>\n",
       "</table>\n",
       "</div>\n",
       "      <button class=\"colab-df-convert\" onclick=\"convertToInteractive('df-f44fd603-70f1-43f2-90da-c7e141e4f2b5')\"\n",
       "              title=\"Convert this dataframe to an interactive table.\"\n",
       "              style=\"display:none;\">\n",
       "        \n",
       "  <svg xmlns=\"http://www.w3.org/2000/svg\" height=\"24px\"viewBox=\"0 0 24 24\"\n",
       "       width=\"24px\">\n",
       "    <path d=\"M0 0h24v24H0V0z\" fill=\"none\"/>\n",
       "    <path d=\"M18.56 5.44l.94 2.06.94-2.06 2.06-.94-2.06-.94-.94-2.06-.94 2.06-2.06.94zm-11 1L8.5 8.5l.94-2.06 2.06-.94-2.06-.94L8.5 2.5l-.94 2.06-2.06.94zm10 10l.94 2.06.94-2.06 2.06-.94-2.06-.94-.94-2.06-.94 2.06-2.06.94z\"/><path d=\"M17.41 7.96l-1.37-1.37c-.4-.4-.92-.59-1.43-.59-.52 0-1.04.2-1.43.59L10.3 9.45l-7.72 7.72c-.78.78-.78 2.05 0 2.83L4 21.41c.39.39.9.59 1.41.59.51 0 1.02-.2 1.41-.59l7.78-7.78 2.81-2.81c.8-.78.8-2.07 0-2.86zM5.41 20L4 18.59l7.72-7.72 1.47 1.35L5.41 20z\"/>\n",
       "  </svg>\n",
       "      </button>\n",
       "      \n",
       "  <style>\n",
       "    .colab-df-container {\n",
       "      display:flex;\n",
       "      flex-wrap:wrap;\n",
       "      gap: 12px;\n",
       "    }\n",
       "\n",
       "    .colab-df-convert {\n",
       "      background-color: #E8F0FE;\n",
       "      border: none;\n",
       "      border-radius: 50%;\n",
       "      cursor: pointer;\n",
       "      display: none;\n",
       "      fill: #1967D2;\n",
       "      height: 32px;\n",
       "      padding: 0 0 0 0;\n",
       "      width: 32px;\n",
       "    }\n",
       "\n",
       "    .colab-df-convert:hover {\n",
       "      background-color: #E2EBFA;\n",
       "      box-shadow: 0px 1px 2px rgba(60, 64, 67, 0.3), 0px 1px 3px 1px rgba(60, 64, 67, 0.15);\n",
       "      fill: #174EA6;\n",
       "    }\n",
       "\n",
       "    [theme=dark] .colab-df-convert {\n",
       "      background-color: #3B4455;\n",
       "      fill: #D2E3FC;\n",
       "    }\n",
       "\n",
       "    [theme=dark] .colab-df-convert:hover {\n",
       "      background-color: #434B5C;\n",
       "      box-shadow: 0px 1px 3px 1px rgba(0, 0, 0, 0.15);\n",
       "      filter: drop-shadow(0px 1px 2px rgba(0, 0, 0, 0.3));\n",
       "      fill: #FFFFFF;\n",
       "    }\n",
       "  </style>\n",
       "\n",
       "      <script>\n",
       "        const buttonEl =\n",
       "          document.querySelector('#df-f44fd603-70f1-43f2-90da-c7e141e4f2b5 button.colab-df-convert');\n",
       "        buttonEl.style.display =\n",
       "          google.colab.kernel.accessAllowed ? 'block' : 'none';\n",
       "\n",
       "        async function convertToInteractive(key) {\n",
       "          const element = document.querySelector('#df-f44fd603-70f1-43f2-90da-c7e141e4f2b5');\n",
       "          const dataTable =\n",
       "            await google.colab.kernel.invokeFunction('convertToInteractive',\n",
       "                                                     [key], {});\n",
       "          if (!dataTable) return;\n",
       "\n",
       "          const docLinkHtml = 'Like what you see? Visit the ' +\n",
       "            '<a target=\"_blank\" href=https://colab.research.google.com/notebooks/data_table.ipynb>data table notebook</a>'\n",
       "            + ' to learn more about interactive tables.';\n",
       "          element.innerHTML = '';\n",
       "          dataTable['output_type'] = 'display_data';\n",
       "          await google.colab.output.renderOutput(dataTable, element);\n",
       "          const docLink = document.createElement('div');\n",
       "          docLink.innerHTML = docLinkHtml;\n",
       "          element.appendChild(docLink);\n",
       "        }\n",
       "      </script>\n",
       "    </div>\n",
       "  </div>\n",
       "  "
      ],
      "text/plain": [
       "   type  amount  oldbalanceOrg  newbalanceOrig  isFraud\n",
       "0     0       0              0               0        0"
      ]
     },
     "execution_count": 12,
     "metadata": {},
     "output_type": "execute_result"
    }
   ],
   "source": [
    "\n",
    "from pyspark.sql.functions import isnan, when, count, col\n",
    "df.select([count(when(isnan(c), c)).alias(c) for c in df.columns]).toPandas().head()"
   ]
  },
  {
   "cell_type": "code",
   "execution_count": 13,
   "metadata": {
    "colab": {
     "base_uri": "https://localhost:8080/"
    },
    "id": "A-aUW4dsO2kF",
    "outputId": "e0c16a92-1e1b-4d7f-81ec-aabae6b279c0"
   },
   "outputs": [
    {
     "name": "stdout",
     "output_type": "stream",
     "text": [
      "+--------+-------+\n",
      "|    type|  count|\n",
      "+--------+-------+\n",
      "|TRANSFER| 532909|\n",
      "| CASH_IN|1399284|\n",
      "|CASH_OUT|2237500|\n",
      "| PAYMENT|2151495|\n",
      "|   DEBIT|  41432|\n",
      "+--------+-------+\n",
      "\n"
     ]
    }
   ],
   "source": [
    "# value counts of type column\n",
    "df.groupBy('type').count().show()"
   ]
  },
  {
   "cell_type": "markdown",
   "metadata": {
    "id": "Qp6g2e98pzGY"
   },
   "source": [
    "**Train Test split**"
   ]
  },
  {
   "cell_type": "code",
   "execution_count": 14,
   "metadata": {
    "id": "MigXPSqWnmSO"
   },
   "outputs": [],
   "source": [
    "train, test = df.randomSplit([0.75, 0.25], seed=42)"
   ]
  },
  {
   "cell_type": "code",
   "execution_count": 15,
   "metadata": {
    "colab": {
     "base_uri": "https://localhost:8080/"
    },
    "id": "tAZIRlLdnmUr",
    "outputId": "84c28476-fdde-4604-ce06-39e852d9dab5"
   },
   "outputs": [
    {
     "name": "stdout",
     "output_type": "stream",
     "text": [
      "Train set count: 4771652\n",
      "Test set count: 1590968 \n"
     ]
    }
   ],
   "source": [
    "print(f\"Train set count: {train.count()}\")\n",
    "print(f\"Test set count: {test.count()} \")"
   ]
  },
  {
   "cell_type": "code",
   "execution_count": 16,
   "metadata": {
    "colab": {
     "base_uri": "https://localhost:8080/"
    },
    "id": "O-ZcY9DanmXS",
    "outputId": "80a6409d-cd30-4862-c2d8-c4a81eec2911"
   },
   "outputs": [
    {
     "name": "stdout",
     "output_type": "stream",
     "text": [
      "+-------+------+-------------+--------------+-------+\n",
      "|   type|amount|oldbalanceOrg|newbalanceOrig|isFraud|\n",
      "+-------+------+-------------+--------------+-------+\n",
      "|CASH_IN|  1.42|   1270713.41|    1270714.83|      0|\n",
      "|CASH_IN|  4.35|   4136277.22|    4136281.57|      0|\n",
      "|CASH_IN|  4.71|      50198.0|      50202.71|      0|\n",
      "|CASH_IN|  5.19|      18104.0|      18109.19|      0|\n",
      "|CASH_IN|  5.44|          0.0|          5.44|      0|\n",
      "|CASH_IN|  6.07|     400680.0|     400686.07|      0|\n",
      "|CASH_IN|  8.27|   8428410.94|    8428419.21|      0|\n",
      "|CASH_IN|  8.29|      20392.0|      20400.29|      0|\n",
      "|CASH_IN|  8.44|      39384.0|      39392.44|      0|\n",
      "|CASH_IN|  9.04|      99971.0|      99980.04|      0|\n",
      "|CASH_IN|  9.22|    7730148.9|    7730158.12|      0|\n",
      "|CASH_IN| 11.13|   4116439.74|    4116450.87|      0|\n",
      "|CASH_IN| 12.18|     299322.0|     299334.18|      0|\n",
      "|CASH_IN| 12.79|     601743.0|     601755.79|      0|\n",
      "|CASH_IN| 13.86|   6868100.18|    6868114.04|      0|\n",
      "|CASH_IN| 14.36|    613030.46|     613044.82|      0|\n",
      "|CASH_IN|  14.4|1.143460813E7| 1.143462253E7|      0|\n",
      "|CASH_IN| 15.52|   4368030.06|    4368045.59|      0|\n",
      "|CASH_IN| 15.59| 1.64294897E7| 1.642950528E7|      0|\n",
      "|CASH_IN|  16.3|2.140511936E7| 2.140513566E7|      0|\n",
      "+-------+------+-------------+--------------+-------+\n",
      "only showing top 20 rows\n",
      "\n"
     ]
    }
   ],
   "source": [
    "train.show()"
   ]
  },
  {
   "cell_type": "markdown",
   "metadata": {
    "id": "l0OHGoCgquN5"
   },
   "source": [
    "**dtype**"
   ]
  },
  {
   "cell_type": "code",
   "execution_count": 17,
   "metadata": {
    "colab": {
     "base_uri": "https://localhost:8080/"
    },
    "id": "5IxkTq1mnmZN",
    "outputId": "e560b94b-1c51-44db-d35b-33725bf5672b"
   },
   "outputs": [
    {
     "data": {
      "text/plain": [
       "[('type', 'string'),\n",
       " ('amount', 'double'),\n",
       " ('oldbalanceOrg', 'double'),\n",
       " ('newbalanceOrig', 'double'),\n",
       " ('isFraud', 'int')]"
      ]
     },
     "execution_count": 17,
     "metadata": {},
     "output_type": "execute_result"
    }
   ],
   "source": [
    "train.dtypes"
   ]
  },
  {
   "cell_type": "code",
   "execution_count": 18,
   "metadata": {
    "id": "HTCOPwnfnmbU"
   },
   "outputs": [],
   "source": [
    "#seperate the numerical columns and string columns\n",
    "catCols = [x for (x, dataType) in train.dtypes if dataType == \"string\"]\n",
    "numCols = [ x for (x, dataType) in train.dtypes if (dataType == \"double\") ]"
   ]
  },
  {
   "cell_type": "code",
   "execution_count": 19,
   "metadata": {
    "colab": {
     "base_uri": "https://localhost:8080/"
    },
    "id": "AMYSeMmKnmet",
    "outputId": "9b976bb0-679d-4d7a-ae48-735f5eabd821"
   },
   "outputs": [
    {
     "name": "stdout",
     "output_type": "stream",
     "text": [
      "['amount', 'oldbalanceOrg', 'newbalanceOrig']\n",
      "['type']\n"
     ]
    }
   ],
   "source": [
    "print(numCols)\n",
    "print(catCols)"
   ]
  },
  {
   "cell_type": "markdown",
   "metadata": {
    "id": "nZ7DJoDjsOII"
   },
   "source": [
    "**One hot encoding**"
   ]
  },
  {
   "cell_type": "code",
   "execution_count": 20,
   "metadata": {
    "colab": {
     "base_uri": "https://localhost:8080/"
    },
    "id": "sNP6Nzm2sFPx",
    "outputId": "aeb4985d-1785-4ca0-fe22-e7ded2c5f381"
   },
   "outputs": [
    {
     "name": "stdout",
     "output_type": "stream",
     "text": [
      "+-----------+\n",
      "|count(type)|\n",
      "+-----------+\n",
      "|          5|\n",
      "+-----------+\n",
      "\n"
     ]
    }
   ],
   "source": [
    "train.agg(F.countDistinct(\"type\")).show()"
   ]
  },
  {
   "cell_type": "code",
   "execution_count": 21,
   "metadata": {
    "colab": {
     "base_uri": "https://localhost:8080/"
    },
    "id": "05O4jAC8sFSL",
    "outputId": "83a32193-58fb-4f0c-b8bb-2a20923ffd0b"
   },
   "outputs": [
    {
     "name": "stdout",
     "output_type": "stream",
     "text": [
      "+--------+-------+\n",
      "|    type|  count|\n",
      "+--------+-------+\n",
      "|TRANSFER| 399382|\n",
      "| CASH_IN|1049380|\n",
      "|CASH_OUT|1678718|\n",
      "| PAYMENT|1613038|\n",
      "|   DEBIT|  31134|\n",
      "+--------+-------+\n",
      "\n"
     ]
    }
   ],
   "source": [
    "train.groupBy(\"type\").count().show()"
   ]
  },
  {
   "cell_type": "code",
   "execution_count": 22,
   "metadata": {
    "id": "Kj6Y0SZTsFUg"
   },
   "outputs": [],
   "source": [
    " #String Indexer to convert the variable into numerical form \n",
    " #OneHotEncoderEstimator to encode multiple columns of the dataset\n",
    "\n",
    "from pyspark.ml.feature import (\n",
    "    OneHotEncoder,\n",
    "    StringIndexer,\n",
    ")"
   ]
  },
  {
   "cell_type": "code",
   "execution_count": 23,
   "metadata": {
    "id": "esHBEjBfsFWx"
   },
   "outputs": [],
   "source": [
    "string_indexer = [\n",
    "    StringIndexer(inputCol=x, outputCol=x + \"_StringIndexer\", handleInvalid=\"skip\")\n",
    "    for x in catCols\n",
    "]"
   ]
  },
  {
   "cell_type": "code",
   "execution_count": 24,
   "metadata": {
    "colab": {
     "base_uri": "https://localhost:8080/"
    },
    "id": "FVsg4pcnsFbA",
    "outputId": "9ebf7873-dcc1-45bd-f651-b9f2d0f5cac6"
   },
   "outputs": [
    {
     "name": "stdout",
     "output_type": "stream",
     "text": [
      "+--------+---------+-------------+--------------+-------+------------------+\n",
      "|    type|   amount|oldbalanceOrg|newbalanceOrig|isFraud|type_StringIndexer|\n",
      "+--------+---------+-------------+--------------+-------+------------------+\n",
      "| PAYMENT|  9839.64|     170136.0|     160296.36|      0|               1.0|\n",
      "| PAYMENT|  1864.28|      21249.0|      19384.72|      0|               1.0|\n",
      "|TRANSFER|    181.0|        181.0|           0.0|      1|               3.0|\n",
      "|CASH_OUT|    181.0|        181.0|           0.0|      1|               0.0|\n",
      "| PAYMENT| 11668.14|      41554.0|      29885.86|      0|               1.0|\n",
      "| PAYMENT|  7817.71|      53860.0|      46042.29|      0|               1.0|\n",
      "| PAYMENT|  7107.77|     183195.0|     176087.23|      0|               1.0|\n",
      "| PAYMENT|  7861.64|    176087.23|     168225.59|      0|               1.0|\n",
      "| PAYMENT|  4024.36|       2671.0|           0.0|      0|               1.0|\n",
      "|   DEBIT|  5337.77|      41720.0|      36382.23|      0|               4.0|\n",
      "|   DEBIT|  9644.94|       4465.0|           0.0|      0|               4.0|\n",
      "| PAYMENT|  3099.97|      20771.0|      17671.03|      0|               1.0|\n",
      "| PAYMENT|  2560.74|       5070.0|       2509.26|      0|               1.0|\n",
      "| PAYMENT| 11633.76|      10127.0|           0.0|      0|               1.0|\n",
      "| PAYMENT|  4098.78|     503264.0|     499165.22|      0|               1.0|\n",
      "|CASH_OUT|229133.94|      15325.0|           0.0|      0|               0.0|\n",
      "| PAYMENT|  1563.82|        450.0|           0.0|      0|               1.0|\n",
      "| PAYMENT|  1157.86|      21156.0|      19998.14|      0|               1.0|\n",
      "| PAYMENT|   671.64|      15123.0|      14451.36|      0|               1.0|\n",
      "|TRANSFER| 215310.3|        705.0|           0.0|      0|               3.0|\n",
      "+--------+---------+-------------+--------------+-------+------------------+\n",
      "only showing top 20 rows\n",
      "\n"
     ]
    }
   ],
   "source": [
    "string_index=string_indexer[0].fit(df).transform(df)\n",
    "string_index.show()"
   ]
  },
  {
   "cell_type": "code",
   "execution_count": 25,
   "metadata": {
    "id": "Ah7Ls7-csFd4"
   },
   "outputs": [],
   "source": [
    "one_hot_encoder = [\n",
    "    OneHotEncoder(\n",
    "        inputCols=[f\"{x}_StringIndexer\" for x in catCols],\n",
    "        outputCols=[f\"{x}_OneHotEncoder\" for x in catCols],\n",
    "    )\n",
    "]"
   ]
  },
  {
   "cell_type": "code",
   "execution_count": 26,
   "metadata": {
    "colab": {
     "base_uri": "https://localhost:8080/"
    },
    "id": "CiRb2yMVsFgJ",
    "outputId": "1bb73f4f-ff1a-42e3-9c0a-fd6288d991b1"
   },
   "outputs": [
    {
     "name": "stdout",
     "output_type": "stream",
     "text": [
      "+--------+---------+-------------+--------------+-------+------------------+------------------+\n",
      "|    type|   amount|oldbalanceOrg|newbalanceOrig|isFraud|type_StringIndexer|type_OneHotEncoder|\n",
      "+--------+---------+-------------+--------------+-------+------------------+------------------+\n",
      "| PAYMENT|  9839.64|     170136.0|     160296.36|      0|               1.0|     (4,[1],[1.0])|\n",
      "| PAYMENT|  1864.28|      21249.0|      19384.72|      0|               1.0|     (4,[1],[1.0])|\n",
      "|TRANSFER|    181.0|        181.0|           0.0|      1|               3.0|     (4,[3],[1.0])|\n",
      "|CASH_OUT|    181.0|        181.0|           0.0|      1|               0.0|     (4,[0],[1.0])|\n",
      "| PAYMENT| 11668.14|      41554.0|      29885.86|      0|               1.0|     (4,[1],[1.0])|\n",
      "| PAYMENT|  7817.71|      53860.0|      46042.29|      0|               1.0|     (4,[1],[1.0])|\n",
      "| PAYMENT|  7107.77|     183195.0|     176087.23|      0|               1.0|     (4,[1],[1.0])|\n",
      "| PAYMENT|  7861.64|    176087.23|     168225.59|      0|               1.0|     (4,[1],[1.0])|\n",
      "| PAYMENT|  4024.36|       2671.0|           0.0|      0|               1.0|     (4,[1],[1.0])|\n",
      "|   DEBIT|  5337.77|      41720.0|      36382.23|      0|               4.0|         (4,[],[])|\n",
      "|   DEBIT|  9644.94|       4465.0|           0.0|      0|               4.0|         (4,[],[])|\n",
      "| PAYMENT|  3099.97|      20771.0|      17671.03|      0|               1.0|     (4,[1],[1.0])|\n",
      "| PAYMENT|  2560.74|       5070.0|       2509.26|      0|               1.0|     (4,[1],[1.0])|\n",
      "| PAYMENT| 11633.76|      10127.0|           0.0|      0|               1.0|     (4,[1],[1.0])|\n",
      "| PAYMENT|  4098.78|     503264.0|     499165.22|      0|               1.0|     (4,[1],[1.0])|\n",
      "|CASH_OUT|229133.94|      15325.0|           0.0|      0|               0.0|     (4,[0],[1.0])|\n",
      "| PAYMENT|  1563.82|        450.0|           0.0|      0|               1.0|     (4,[1],[1.0])|\n",
      "| PAYMENT|  1157.86|      21156.0|      19998.14|      0|               1.0|     (4,[1],[1.0])|\n",
      "| PAYMENT|   671.64|      15123.0|      14451.36|      0|               1.0|     (4,[1],[1.0])|\n",
      "|TRANSFER| 215310.3|        705.0|           0.0|      0|               3.0|     (4,[3],[1.0])|\n",
      "+--------+---------+-------------+--------------+-------+------------------+------------------+\n",
      "only showing top 20 rows\n",
      "\n"
     ]
    }
   ],
   "source": [
    "one_hot_encode=one_hot_encoder[0].fit(string_index).transform(string_index)\n",
    "one_hot_encode.show()"
   ]
  },
  {
   "cell_type": "markdown",
   "metadata": {
    "id": "VBVTcXS1tqlT"
   },
   "source": [
    "**Vector assembling**"
   ]
  },
  {
   "cell_type": "code",
   "execution_count": 27,
   "metadata": {
    "id": "NZ1MNoDasFih"
   },
   "outputs": [],
   "source": [
    "# VectorAssembler combines the values of input columns into a single vector.\n",
    "from pyspark.ml.feature import VectorAssembler"
   ]
  },
  {
   "cell_type": "code",
   "execution_count": 28,
   "metadata": {
    "id": "CndgeVXisFlK"
   },
   "outputs": [],
   "source": [
    "assembler = [x for x in numCols]\n",
    "assembler += [f\"{x}_OneHotEncoder\" for x in catCols]\n"
   ]
  },
  {
   "cell_type": "code",
   "execution_count": 29,
   "metadata": {
    "colab": {
     "base_uri": "https://localhost:8080/"
    },
    "id": "kuFdm_AasFny",
    "outputId": "460f7b1c-f838-41ad-d991-877d39865a86"
   },
   "outputs": [
    {
     "data": {
      "text/plain": [
       "['amount', 'oldbalanceOrg', 'newbalanceOrig', 'type_OneHotEncoder']"
      ]
     },
     "execution_count": 29,
     "metadata": {},
     "output_type": "execute_result"
    }
   ],
   "source": [
    "assembler\n"
   ]
  },
  {
   "cell_type": "code",
   "execution_count": 30,
   "metadata": {
    "id": "ivdpp23esFqW"
   },
   "outputs": [],
   "source": [
    "vector_assembler = VectorAssembler(\n",
    "    inputCols=assembler, outputCol=\"VectorAssembler_features\"\n",
    ")\n"
   ]
  },
  {
   "cell_type": "code",
   "execution_count": 31,
   "metadata": {
    "id": "tN9-z_wruYg6"
   },
   "outputs": [],
   "source": [
    "#stages and pipeline to apply the indexer and encoder\n",
    "stages = []\n",
    "stages += string_indexer\n",
    "stages += one_hot_encoder\n",
    "stages += [vector_assembler]"
   ]
  },
  {
   "cell_type": "code",
   "execution_count": 32,
   "metadata": {
    "colab": {
     "base_uri": "https://localhost:8080/"
    },
    "id": "idZRhVtouYsI",
    "outputId": "60babc0e-c200-4d87-e7c1-2878c2161626"
   },
   "outputs": [
    {
     "data": {
      "text/plain": [
       "[StringIndexer_930a77c42108,\n",
       " OneHotEncoder_1f15537e6e4f,\n",
       " VectorAssembler_67e6e9803714]"
      ]
     },
     "execution_count": 32,
     "metadata": {},
     "output_type": "execute_result"
    }
   ],
   "source": [
    "stages"
   ]
  },
  {
   "cell_type": "code",
   "execution_count": 33,
   "metadata": {
    "id": "CJxVrS3QuYvy"
   },
   "outputs": [],
   "source": [
    "# A pipeline allows to maintain the data flow of all the relevant transformations that are required\n",
    "#%%time\n",
    "from pyspark.ml import Pipeline\n",
    "\n",
    "pipeline = Pipeline().setStages(stages)\n",
    "model = pipeline.fit(train)\n",
    "\n",
    "pipe_df = model.transform(train)"
   ]
  },
  {
   "cell_type": "code",
   "execution_count": 34,
   "metadata": {
    "colab": {
     "base_uri": "https://localhost:8080/"
    },
    "id": "sKmS-aKcsFse",
    "outputId": "60b2bcfe-38e3-41a2-f3a6-287692e7de96"
   },
   "outputs": [
    {
     "name": "stdout",
     "output_type": "stream",
     "text": [
      "+-------+------+-------------+--------------+--------------------------------------------------+\n",
      "|type   |amount|oldbalanceOrg|newbalanceOrig|VectorAssembler_features                          |\n",
      "+-------+------+-------------+--------------+--------------------------------------------------+\n",
      "|CASH_IN|1.42  |1270713.41   |1270714.83    |[1.42,1270713.41,1270714.83,0.0,0.0,1.0,0.0]      |\n",
      "|CASH_IN|4.35  |4136277.22   |4136281.57    |[4.35,4136277.22,4136281.57,0.0,0.0,1.0,0.0]      |\n",
      "|CASH_IN|4.71  |50198.0      |50202.71      |[4.71,50198.0,50202.71,0.0,0.0,1.0,0.0]           |\n",
      "|CASH_IN|5.19  |18104.0      |18109.19      |[5.19,18104.0,18109.19,0.0,0.0,1.0,0.0]           |\n",
      "|CASH_IN|5.44  |0.0          |5.44          |(7,[0,2,5],[5.44,5.44,1.0])                       |\n",
      "|CASH_IN|6.07  |400680.0     |400686.07     |[6.07,400680.0,400686.07,0.0,0.0,1.0,0.0]         |\n",
      "|CASH_IN|8.27  |8428410.94   |8428419.21    |[8.27,8428410.94,8428419.21,0.0,0.0,1.0,0.0]      |\n",
      "|CASH_IN|8.29  |20392.0      |20400.29      |[8.29,20392.0,20400.29,0.0,0.0,1.0,0.0]           |\n",
      "|CASH_IN|8.44  |39384.0      |39392.44      |[8.44,39384.0,39392.44,0.0,0.0,1.0,0.0]           |\n",
      "|CASH_IN|9.04  |99971.0      |99980.04      |[9.04,99971.0,99980.04,0.0,0.0,1.0,0.0]           |\n",
      "|CASH_IN|9.22  |7730148.9    |7730158.12    |[9.22,7730148.9,7730158.12,0.0,0.0,1.0,0.0]       |\n",
      "|CASH_IN|11.13 |4116439.74   |4116450.87    |[11.13,4116439.74,4116450.87,0.0,0.0,1.0,0.0]     |\n",
      "|CASH_IN|12.18 |299322.0     |299334.18     |[12.18,299322.0,299334.18,0.0,0.0,1.0,0.0]        |\n",
      "|CASH_IN|12.79 |601743.0     |601755.79     |[12.79,601743.0,601755.79,0.0,0.0,1.0,0.0]        |\n",
      "|CASH_IN|13.86 |6868100.18   |6868114.04    |[13.86,6868100.18,6868114.04,0.0,0.0,1.0,0.0]     |\n",
      "|CASH_IN|14.36 |613030.46    |613044.82     |[14.36,613030.46,613044.82,0.0,0.0,1.0,0.0]       |\n",
      "|CASH_IN|14.4  |1.143460813E7|1.143462253E7 |[14.4,1.143460813E7,1.143462253E7,0.0,0.0,1.0,0.0]|\n",
      "|CASH_IN|15.52 |4368030.06   |4368045.59    |[15.52,4368030.06,4368045.59,0.0,0.0,1.0,0.0]     |\n",
      "|CASH_IN|15.59 |1.64294897E7 |1.642950528E7 |[15.59,1.64294897E7,1.642950528E7,0.0,0.0,1.0,0.0]|\n",
      "|CASH_IN|16.3  |2.140511936E7|2.140513566E7 |[16.3,2.140511936E7,2.140513566E7,0.0,0.0,1.0,0.0]|\n",
      "+-------+------+-------------+--------------+--------------------------------------------------+\n",
      "only showing top 20 rows\n",
      "\n"
     ]
    }
   ],
   "source": [
    "pipe_df.select(\n",
    "    \"type\", \"amount\", \"oldbalanceOrg\", \"newbalanceOrig\", \"VectorAssembler_features\",\n",
    ").show(truncate=False)"
   ]
  },
  {
   "cell_type": "code",
   "execution_count": 35,
   "metadata": {
    "colab": {
     "base_uri": "https://localhost:8080/"
    },
    "id": "AM1xH_9Uv0uj",
    "outputId": "ea7ef38e-20f7-4745-9c95-6b6bb44f018d"
   },
   "outputs": [
    {
     "name": "stdout",
     "output_type": "stream",
     "text": [
      "+-------+------+-------------+--------------+-------+------------------+------------------+------------------------+\n",
      "|   type|amount|oldbalanceOrg|newbalanceOrig|isFraud|type_StringIndexer|type_OneHotEncoder|VectorAssembler_features|\n",
      "+-------+------+-------------+--------------+-------+------------------+------------------+------------------------+\n",
      "|CASH_IN|  1.42|   1270713.41|    1270714.83|      0|               2.0|     (4,[2],[1.0])|    [1.42,1270713.41,...|\n",
      "|CASH_IN|  4.35|   4136277.22|    4136281.57|      0|               2.0|     (4,[2],[1.0])|    [4.35,4136277.22,...|\n",
      "|CASH_IN|  4.71|      50198.0|      50202.71|      0|               2.0|     (4,[2],[1.0])|    [4.71,50198.0,502...|\n",
      "|CASH_IN|  5.19|      18104.0|      18109.19|      0|               2.0|     (4,[2],[1.0])|    [5.19,18104.0,181...|\n",
      "|CASH_IN|  5.44|          0.0|          5.44|      0|               2.0|     (4,[2],[1.0])|    (7,[0,2,5],[5.44,...|\n",
      "|CASH_IN|  6.07|     400680.0|     400686.07|      0|               2.0|     (4,[2],[1.0])|    [6.07,400680.0,40...|\n",
      "|CASH_IN|  8.27|   8428410.94|    8428419.21|      0|               2.0|     (4,[2],[1.0])|    [8.27,8428410.94,...|\n",
      "|CASH_IN|  8.29|      20392.0|      20400.29|      0|               2.0|     (4,[2],[1.0])|    [8.29,20392.0,204...|\n",
      "|CASH_IN|  8.44|      39384.0|      39392.44|      0|               2.0|     (4,[2],[1.0])|    [8.44,39384.0,393...|\n",
      "|CASH_IN|  9.04|      99971.0|      99980.04|      0|               2.0|     (4,[2],[1.0])|    [9.04,99971.0,999...|\n",
      "|CASH_IN|  9.22|    7730148.9|    7730158.12|      0|               2.0|     (4,[2],[1.0])|    [9.22,7730148.9,7...|\n",
      "|CASH_IN| 11.13|   4116439.74|    4116450.87|      0|               2.0|     (4,[2],[1.0])|    [11.13,4116439.74...|\n",
      "|CASH_IN| 12.18|     299322.0|     299334.18|      0|               2.0|     (4,[2],[1.0])|    [12.18,299322.0,2...|\n",
      "|CASH_IN| 12.79|     601743.0|     601755.79|      0|               2.0|     (4,[2],[1.0])|    [12.79,601743.0,6...|\n",
      "|CASH_IN| 13.86|   6868100.18|    6868114.04|      0|               2.0|     (4,[2],[1.0])|    [13.86,6868100.18...|\n",
      "|CASH_IN| 14.36|    613030.46|     613044.82|      0|               2.0|     (4,[2],[1.0])|    [14.36,613030.46,...|\n",
      "|CASH_IN|  14.4|1.143460813E7| 1.143462253E7|      0|               2.0|     (4,[2],[1.0])|    [14.4,1.143460813...|\n",
      "|CASH_IN| 15.52|   4368030.06|    4368045.59|      0|               2.0|     (4,[2],[1.0])|    [15.52,4368030.06...|\n",
      "|CASH_IN| 15.59| 1.64294897E7| 1.642950528E7|      0|               2.0|     (4,[2],[1.0])|    [15.59,1.64294897...|\n",
      "|CASH_IN|  16.3|2.140511936E7| 2.140513566E7|      0|               2.0|     (4,[2],[1.0])|    [16.3,2.140511936...|\n",
      "+-------+------+-------------+--------------+-------+------------------+------------------+------------------------+\n",
      "only showing top 20 rows\n",
      "\n"
     ]
    }
   ],
   "source": [
    "pipe_df.show()"
   ]
  },
  {
   "cell_type": "code",
   "execution_count": 36,
   "metadata": {
    "colab": {
     "base_uri": "https://localhost:8080/"
    },
    "id": "fbq25vrQyI1O",
    "outputId": "7c970614-ef6a-4872-b4ee-ddd2e5cc82d6"
   },
   "outputs": [
    {
     "data": {
      "text/plain": [
       "1590968"
      ]
     },
     "execution_count": 36,
     "metadata": {},
     "output_type": "execute_result"
    }
   ],
   "source": [
    "test.count()"
   ]
  },
  {
   "cell_type": "code",
   "execution_count": 37,
   "metadata": {
    "id": "4yCxE998yI4w"
   },
   "outputs": [],
   "source": [
    "df_test=test.where(test.isFraud == 1)"
   ]
  },
  {
   "cell_type": "code",
   "execution_count": 38,
   "metadata": {
    "colab": {
     "base_uri": "https://localhost:8080/"
    },
    "id": "z9Cvu9jhyPJt",
    "outputId": "f932afe0-ea92-484d-fae3-f14312df3f65"
   },
   "outputs": [
    {
     "name": "stdout",
     "output_type": "stream",
     "text": [
      "+--------+--------+-------------+--------------+-------+\n",
      "|    type|  amount|oldbalanceOrg|newbalanceOrig|isFraud|\n",
      "+--------+--------+-------------+--------------+-------+\n",
      "|CASH_OUT|   170.0|        170.0|           0.0|      1|\n",
      "|CASH_OUT| 6215.44|      6215.44|           0.0|      1|\n",
      "|CASH_OUT|  9131.0|       9131.0|           0.0|      1|\n",
      "|CASH_OUT|10119.47|     10119.47|           0.0|      1|\n",
      "|CASH_OUT| 10565.0|      10565.0|           0.0|      1|\n",
      "|CASH_OUT| 11308.0|      11308.0|           0.0|      1|\n",
      "|CASH_OUT| 11385.0|      11385.0|           0.0|      1|\n",
      "|CASH_OUT|16274.51|     16274.51|           0.0|      1|\n",
      "|CASH_OUT|16671.29|     16671.29|           0.0|      1|\n",
      "|CASH_OUT|19742.71|     19742.71|           0.0|      1|\n",
      "|CASH_OUT|21516.38|     21516.38|           0.0|      1|\n",
      "|CASH_OUT|21574.55|     21574.55|           0.0|      1|\n",
      "|CASH_OUT|21829.31|     21829.31|           0.0|      1|\n",
      "|CASH_OUT| 21922.0|      21922.0|           0.0|      1|\n",
      "|CASH_OUT| 21987.0|      21987.0|           0.0|      1|\n",
      "|CASH_OUT|25071.46|     25071.46|           0.0|      1|\n",
      "|CASH_OUT| 26768.5|      26768.5|           0.0|      1|\n",
      "|CASH_OUT|29832.81|     29832.81|           0.0|      1|\n",
      "|CASH_OUT|30917.39|     30917.39|           0.0|      1|\n",
      "|CASH_OUT|31329.62|     31329.62|           0.0|      1|\n",
      "+--------+--------+-------------+--------------+-------+\n",
      "only showing top 20 rows\n",
      "\n"
     ]
    }
   ],
   "source": [
    "df_test.show()"
   ]
  },
  {
   "cell_type": "markdown",
   "metadata": {
    "id": "dwhrcVxdvr7x"
   },
   "source": [
    "**Logistic Regression**"
   ]
  },
  {
   "cell_type": "code",
   "execution_count": 39,
   "metadata": {
    "id": "IckwTYnesFu8"
   },
   "outputs": [],
   "source": [
    "from pyspark.ml.classification import LogisticRegression"
   ]
  },
  {
   "cell_type": "code",
   "execution_count": 40,
   "metadata": {
    "id": "FWDnMlaosFxO"
   },
   "outputs": [],
   "source": [
    "data = pipe_df.select(\n",
    "    F.col(\"VectorAssembler_features\").alias(\"features\"),\n",
    "    F.col(\"isFraud\").alias(\"label\"),\n",
    ")"
   ]
  },
  {
   "cell_type": "code",
   "execution_count": 41,
   "metadata": {
    "colab": {
     "base_uri": "https://localhost:8080/"
    },
    "id": "GmzYtHSjsF0y",
    "outputId": "93c40eb7-83fa-4bbc-f989-5d2bbf2a89ae"
   },
   "outputs": [
    {
     "name": "stdout",
     "output_type": "stream",
     "text": [
      "+--------------------------------------------+-----+\n",
      "|features                                    |label|\n",
      "+--------------------------------------------+-----+\n",
      "|[1.42,1270713.41,1270714.83,0.0,0.0,1.0,0.0]|0    |\n",
      "|[4.35,4136277.22,4136281.57,0.0,0.0,1.0,0.0]|0    |\n",
      "|[4.71,50198.0,50202.71,0.0,0.0,1.0,0.0]     |0    |\n",
      "|[5.19,18104.0,18109.19,0.0,0.0,1.0,0.0]     |0    |\n",
      "|(7,[0,2,5],[5.44,5.44,1.0])                 |0    |\n",
      "+--------------------------------------------+-----+\n",
      "only showing top 5 rows\n",
      "\n"
     ]
    }
   ],
   "source": [
    "data.show(5, truncate=False)"
   ]
  },
  {
   "cell_type": "code",
   "execution_count": 42,
   "metadata": {
    "colab": {
     "base_uri": "https://localhost:8080/"
    },
    "id": "KkbPfs55wKJr",
    "outputId": "9b8cd637-c58a-46e4-c3b4-2434e02ee934"
   },
   "outputs": [
    {
     "name": "stdout",
     "output_type": "stream",
     "text": [
      "CPU times: user 842 ms, sys: 86.2 ms, total: 929 ms\n",
      "Wall time: 2min 10s\n"
     ]
    }
   ],
   "source": [
    "%%time\n",
    "model = LogisticRegression().fit(data)\n",
    "data=model.transform(data)"
   ]
  },
  {
   "cell_type": "code",
   "execution_count": 43,
   "metadata": {
    "colab": {
     "base_uri": "https://localhost:8080/"
    },
    "id": "2doMO4ftwUtR",
    "outputId": "0178dd02-cb48-41fa-83ab-226da117a5e3"
   },
   "outputs": [
    {
     "name": "stdout",
     "output_type": "stream",
     "text": [
      "+--------------------+-----+--------------------+-----------+----------+\n",
      "|            features|label|       rawPrediction|probability|prediction|\n",
      "+--------------------+-----+--------------------+-----------+----------+\n",
      "|[1.42,1270713.41,...|    0|[238.517757628337...|  [1.0,0.0]|       0.0|\n",
      "|[4.35,4136277.22,...|    0|[244.429064104133...|  [1.0,0.0]|       0.0|\n",
      "|[4.71,50198.0,502...|    0|[236.000249874816...|  [1.0,0.0]|       0.0|\n",
      "|[5.19,18104.0,181...|    0|[235.934073923229...|  [1.0,0.0]|       0.0|\n",
      "|(7,[0,2,5],[5.44,...|    0|[235.896743317671...|  [1.0,0.0]|       0.0|\n",
      "|[6.07,400680.0,40...|    0|[236.723309887840...|  [1.0,0.0]|       0.0|\n",
      "|[8.27,8428410.94,...|    0|[253.283181789225...|  [1.0,0.0]|       0.0|\n",
      "|[8.29,20392.0,204...|    0|[235.938975193461...|  [1.0,0.0]|       0.0|\n",
      "|[8.44,39384.0,393...|    0|[235.978161005906...|  [1.0,0.0]|       0.0|\n",
      "|[9.04,99971.0,999...|    0|[236.103176061258...|  [1.0,0.0]|       0.0|\n",
      "|[9.22,7730148.9,7...|    0|[251.842850337973...|  [1.0,0.0]|       0.0|\n",
      "|[11.13,4116439.74...|    0|[244.388540059564...|  [1.0,0.0]|       0.0|\n",
      "|[12.18,299322.0,2...|    0|[236.514584659244...|  [1.0,0.0]|       0.0|\n",
      "|[12.79,601743.0,6...|    0|[237.138459683277...|  [1.0,0.0]|       0.0|\n",
      "|[13.86,6868100.18...|    0|[250.064872969315...|  [1.0,0.0]|       0.0|\n",
      "|[14.36,613030.46,...|    0|[237.161835595427...|  [1.0,0.0]|       0.0|\n",
      "|[14.4,1.143460813...|    0|[259.484776648554...|  [1.0,0.0]|       0.0|\n",
      "|[15.52,4368030.06...|    0|[244.907782377431...|  [1.0,0.0]|       0.0|\n",
      "|[15.59,1.64294897...|    0|[269.788374612014...|  [1.0,0.0]|       0.0|\n",
      "|[16.3,2.140511936...|    0|[280.052231967302...|  [1.0,0.0]|       0.0|\n",
      "+--------------------+-----+--------------------+-----------+----------+\n",
      "only showing top 20 rows\n",
      "\n"
     ]
    }
   ],
   "source": [
    "data.show()"
   ]
  },
  {
   "cell_type": "markdown",
   "metadata": {
    "id": "4GxgWca4wdee"
   },
   "source": [
    "**Model Testing**"
   ]
  },
  {
   "cell_type": "code",
   "execution_count": 44,
   "metadata": {
    "id": "zHC2oMaSwU3m"
   },
   "outputs": [],
   "source": [
    "#passing test data into the pipeline\n",
    "model = pipeline.fit(df_test)\n",
    "\n",
    "pipe_df_test = model.transform(df_test)"
   ]
  },
  {
   "cell_type": "code",
   "execution_count": 45,
   "metadata": {
    "id": "Et1X1PYewU56"
   },
   "outputs": [],
   "source": [
    "data_test = pipe_df_test.select(\n",
    "    F.col(\"VectorAssembler_features\").alias(\"features\"),\n",
    "    F.col(\"isFraud\").alias(\"label\"),\n",
    ")"
   ]
  },
  {
   "cell_type": "code",
   "execution_count": 46,
   "metadata": {
    "colab": {
     "base_uri": "https://localhost:8080/"
    },
    "id": "CRNInZYfwU8h",
    "outputId": "50c9e1db-53cb-45fd-e9e8-a8e36b8af954"
   },
   "outputs": [
    {
     "name": "stdout",
     "output_type": "stream",
     "text": [
      "+---------------------------+-----+\n",
      "|features                   |label|\n",
      "+---------------------------+-----+\n",
      "|[170.0,170.0,0.0,1.0]      |1    |\n",
      "|[6215.44,6215.44,0.0,1.0]  |1    |\n",
      "|[9131.0,9131.0,0.0,1.0]    |1    |\n",
      "|[10119.47,10119.47,0.0,1.0]|1    |\n",
      "|[10565.0,10565.0,0.0,1.0]  |1    |\n",
      "+---------------------------+-----+\n",
      "only showing top 5 rows\n",
      "\n"
     ]
    }
   ],
   "source": [
    "data_test.show(5, truncate=False)"
   ]
  },
  {
   "cell_type": "code",
   "execution_count": 47,
   "metadata": {
    "colab": {
     "base_uri": "https://localhost:8080/"
    },
    "id": "dtvV7lRwwU-g",
    "outputId": "3a5e2f63-56f1-4a42-f01a-185f54aaa7fe"
   },
   "outputs": [
    {
     "name": "stdout",
     "output_type": "stream",
     "text": [
      "+--------------------+-----+--------------------+-----------+----------+\n",
      "|            features|label|       rawPrediction|probability|prediction|\n",
      "+--------------------+-----+--------------------+-----------+----------+\n",
      "|[170.0,170.0,0.0,...|    1|[-Infinity,Infinity]|  [0.0,1.0]|       1.0|\n",
      "|[6215.44,6215.44,...|    1|[-Infinity,Infinity]|  [0.0,1.0]|       1.0|\n",
      "|[9131.0,9131.0,0....|    1|[-Infinity,Infinity]|  [0.0,1.0]|       1.0|\n",
      "|[10119.47,10119.4...|    1|[-Infinity,Infinity]|  [0.0,1.0]|       1.0|\n",
      "|[10565.0,10565.0,...|    1|[-Infinity,Infinity]|  [0.0,1.0]|       1.0|\n",
      "|[11308.0,11308.0,...|    1|[-Infinity,Infinity]|  [0.0,1.0]|       1.0|\n",
      "|[11385.0,11385.0,...|    1|[-Infinity,Infinity]|  [0.0,1.0]|       1.0|\n",
      "|[16274.51,16274.5...|    1|[-Infinity,Infinity]|  [0.0,1.0]|       1.0|\n",
      "|[16671.29,16671.2...|    1|[-Infinity,Infinity]|  [0.0,1.0]|       1.0|\n",
      "|[19742.71,19742.7...|    1|[-Infinity,Infinity]|  [0.0,1.0]|       1.0|\n",
      "|[21516.38,21516.3...|    1|[-Infinity,Infinity]|  [0.0,1.0]|       1.0|\n",
      "|[21574.55,21574.5...|    1|[-Infinity,Infinity]|  [0.0,1.0]|       1.0|\n",
      "|[21829.31,21829.3...|    1|[-Infinity,Infinity]|  [0.0,1.0]|       1.0|\n",
      "|[21922.0,21922.0,...|    1|[-Infinity,Infinity]|  [0.0,1.0]|       1.0|\n",
      "|[21987.0,21987.0,...|    1|[-Infinity,Infinity]|  [0.0,1.0]|       1.0|\n",
      "|[25071.46,25071.4...|    1|[-Infinity,Infinity]|  [0.0,1.0]|       1.0|\n",
      "|[26768.5,26768.5,...|    1|[-Infinity,Infinity]|  [0.0,1.0]|       1.0|\n",
      "|[29832.81,29832.8...|    1|[-Infinity,Infinity]|  [0.0,1.0]|       1.0|\n",
      "|[30917.39,30917.3...|    1|[-Infinity,Infinity]|  [0.0,1.0]|       1.0|\n",
      "|[31329.62,31329.6...|    1|[-Infinity,Infinity]|  [0.0,1.0]|       1.0|\n",
      "+--------------------+-----+--------------------+-----------+----------+\n",
      "only showing top 20 rows\n",
      "\n"
     ]
    }
   ],
   "source": [
    "model = LogisticRegression().fit(data_test)\n",
    "data=model.transform(data_test)\n",
    "data.show()"
   ]
  },
  {
   "cell_type": "code",
   "execution_count": 48,
   "metadata": {
    "colab": {
     "base_uri": "https://localhost:8080/"
    },
    "id": "aq8xQREMwVB5",
    "outputId": "e6670d77-92a4-4c44-c852-e634efd0749f"
   },
   "outputs": [
    {
     "data": {
      "text/plain": [
       "<bound method DataFrame.limit of DataFrame[type: string, amount: double, oldbalanceOrg: double, newbalanceOrig: double, isFraud: int]>"
      ]
     },
     "execution_count": 48,
     "metadata": {},
     "output_type": "execute_result"
    }
   ],
   "source": [
    "df.limit"
   ]
  },
  {
   "cell_type": "code",
   "execution_count": 49,
   "metadata": {
    "colab": {
     "base_uri": "https://localhost:8080/"
    },
    "id": "LNnKxfkewKMY",
    "outputId": "b9b634e1-43cd-41b9-8a06-3f3a2c56e3c0"
   },
   "outputs": [
    {
     "data": {
      "text/plain": [
       "1.0"
      ]
     },
     "execution_count": 49,
     "metadata": {},
     "output_type": "execute_result"
    }
   ],
   "source": [
    "model.summary.areaUnderROC"
   ]
  },
  {
   "cell_type": "code",
   "execution_count": 50,
   "metadata": {
    "colab": {
     "base_uri": "https://localhost:8080/"
    },
    "id": "_YoZS2AFw1kI",
    "outputId": "26f4e4f2-e7a9-4041-e59f-0262ddebe831"
   },
   "outputs": [
    {
     "name": "stdout",
     "output_type": "stream",
     "text": [
      "+------+---------+\n",
      "|recall|precision|\n",
      "+------+---------+\n",
      "|   0.0|      1.0|\n",
      "|   1.0|      1.0|\n",
      "+------+---------+\n",
      "\n"
     ]
    }
   ],
   "source": [
    "model.summary.pr.show()"
   ]
  },
  {
   "cell_type": "code",
   "execution_count": 50,
   "metadata": {
    "id": "UigGziEow1qJ"
   },
   "outputs": [],
   "source": []
  }
 ],
 "metadata": {
  "colab": {
   "provenance": []
  },
  "kernelspec": {
   "display_name": "Python 3 (ipykernel)",
   "language": "python",
   "name": "python3"
  },
  "language_info": {
   "codemirror_mode": {
    "name": "ipython",
    "version": 3
   },
   "file_extension": ".py",
   "mimetype": "text/x-python",
   "name": "python",
   "nbconvert_exporter": "python",
   "pygments_lexer": "ipython3",
   "version": "3.9.13"
  }
 },
 "nbformat": 4,
 "nbformat_minor": 1
}
